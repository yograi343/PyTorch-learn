{
  "nbformat": 4,
  "nbformat_minor": 0,
  "metadata": {
    "colab": {
      "provenance": [],
      "gpuType": "T4",
      "authorship_tag": "ABX9TyMLUhgsQJYMh6LYO67kxZ40"
    },
    "kernelspec": {
      "name": "python3",
      "display_name": "Python 3"
    },
    "language_info": {
      "name": "python"
    },
    "accelerator": "GPU"
  },
  "cells": [
    {
      "cell_type": "code",
      "execution_count": 1,
      "metadata": {
        "id": "4gR22H5MX7Hw",
        "colab": {
          "base_uri": "https://localhost:8080/",
          "height": 35
        },
        "outputId": "c1d081c4-1c2a-404a-bda2-f2f00c0eaa41"
      },
      "outputs": [
        {
          "output_type": "execute_result",
          "data": {
            "text/plain": [
              "'2.2.1+cu121'"
            ],
            "application/vnd.google.colaboratory.intrinsic+json": {
              "type": "string"
            }
          },
          "metadata": {},
          "execution_count": 1
        }
      ],
      "source": [
        "# import the required libraries in the environment\n",
        "import numpy as np\n",
        "import torch\n",
        "from torch import nn\n",
        "import matplotlib.pyplot as plt\n",
        "\n",
        "#check Pytorch version\n",
        "torch.__version__"
      ]
    },
    {
      "cell_type": "code",
      "source": [
        "# setup device agnostic code\n",
        "device = 'cude' if torch.cuda.is_available() else 'cpu'\n",
        "\n",
        "print(f'Using device {device}')"
      ],
      "metadata": {
        "colab": {
          "base_uri": "https://localhost:8080/"
        },
        "id": "wpx0kBdcY7T0",
        "outputId": "7f11a900-fb99-401f-aaa8-42db4c78c960"
      },
      "execution_count": 2,
      "outputs": [
        {
          "output_type": "stream",
          "name": "stdout",
          "text": [
            "Using device cude\n"
          ]
        }
      ]
    },
    {
      "cell_type": "code",
      "source": [
        "# lets create a weight\n",
        "\n",
        "weight =0.3\n",
        "bias = 0.9\n",
        "\n",
        "start = 0\n",
        "end = 2\n",
        "step = 0.02\n",
        "\n",
        "x = torch.arange(start,end,step).unsqueeze(dim=1)\n",
        "\n",
        "y= weight*x+bias"
      ],
      "metadata": {
        "id": "ABOcffOMZSwO"
      },
      "execution_count": 3,
      "outputs": []
    },
    {
      "cell_type": "code",
      "source": [
        "#getting the 0.8 percent data mark\n",
        "cut_len = int(len(x)*0.8)\n",
        "cut_len"
      ],
      "metadata": {
        "colab": {
          "base_uri": "https://localhost:8080/"
        },
        "id": "GeEPvjJLaNVy",
        "outputId": "d4df75b1-c422-41df-dffc-5572a54c4a6e"
      },
      "execution_count": 4,
      "outputs": [
        {
          "output_type": "execute_result",
          "data": {
            "text/plain": [
              "80"
            ]
          },
          "metadata": {},
          "execution_count": 4
        }
      ]
    },
    {
      "cell_type": "code",
      "source": [
        "# segregation of test and train dataset in 20% and 80 % respectevely\n",
        "X_train,y_train = x[:cut_len],y[:cut_len]\n",
        "\n",
        "X_test,y_test=x[cut_len:],y[cut_len:]\n",
        "\n",
        "len(X_train),len(y_train),len(X_test),len(y_test)"
      ],
      "metadata": {
        "colab": {
          "base_uri": "https://localhost:8080/"
        },
        "id": "CbASmGZnabJk",
        "outputId": "0f253d3a-9fd0-4b1b-d91d-7b04347b454e"
      },
      "execution_count": 5,
      "outputs": [
        {
          "output_type": "execute_result",
          "data": {
            "text/plain": [
              "(80, 80, 20, 20)"
            ]
          },
          "metadata": {},
          "execution_count": 5
        }
      ]
    },
    {
      "cell_type": "code",
      "source": [
        "def plot_the_predictions(traindata = X_train,\n",
        "                         traindatalabel = y_train,\n",
        "                         testdata = X_test,\n",
        "                         testdatalabel = y_test,\n",
        "                         predictions = None):\n",
        "  plt.figure(figsize=(10,7))\n",
        "  plt.scatter(traindata,traindatalabel,c='b',s=4,label ='Train Data')\n",
        "  plt.scatter(testdata,testdatalabel,c='g',s=4,label='Testingdata')\n",
        "  if predictions is not None:\n",
        "    plt.scatter(testdata,predictions,c='r',s=4,label='Predicted Data')\n",
        "  plt.legend(prop={'size':12})"
      ],
      "metadata": {
        "id": "KzDTUZUDbG_m"
      },
      "execution_count": 6,
      "outputs": []
    },
    {
      "cell_type": "code",
      "source": [
        "plot_the_predictions()"
      ],
      "metadata": {
        "colab": {
          "base_uri": "https://localhost:8080/",
          "height": 555
        },
        "id": "q1o4soQ3jHEU",
        "outputId": "68d7a01e-3717-4dff-911c-67be7709aa01"
      },
      "execution_count": 7,
      "outputs": [
        {
          "output_type": "display_data",
          "data": {
            "text/plain": [
              "<Figure size 1000x700 with 1 Axes>"
            ],
            "image/png": "[encoded data removed]"
          },
          "metadata": {}
        }
      ]
    },
    {
      "cell_type": "code",
      "source": [
        "class RegressionModelAssignment(nn.Module):\n",
        "\n",
        "  def __init__(self):\n",
        "    super().__init__()\n",
        "    self.weight = nn.Parameter(torch.randn(1,\n",
        "                                           requires_grad=True,\n",
        "                                           dtype=torch.float))\n",
        "    self.bias = nn.Parameter(torch.randn(1,\n",
        "                                         requires_grad=True,\n",
        "                                         dtype=torch.float))\n",
        "\n",
        "  #create a forwared funtions\n",
        "  def forward(self,x:torch.Tensor) ->torch.Tensor:\n",
        "    return self.weight*x+self.bias"
      ],
      "metadata": {
        "id": "-IhR71gBjKq9"
      },
      "execution_count": 8,
      "outputs": []
    },
    {
      "cell_type": "code",
      "source": [
        "# create a manual seed\n",
        "torch.manual_seed(42)\n",
        "model = RegressionModelAssignment()\n",
        "model.state_dict()"
      ],
      "metadata": {
        "colab": {
          "base_uri": "https://localhost:8080/"
        },
        "id": "evWBSitGkkwb",
        "outputId": "352152a8-eed4-4dee-b3c9-9b05a0ac2e06"
      },
      "execution_count": 9,
      "outputs": [
        {
          "output_type": "execute_result",
          "data": {
            "text/plain": [
              "OrderedDict([('weight', tensor([0.3367])), ('bias', tensor([0.1288]))])"
            ]
          },
          "metadata": {},
          "execution_count": 9
        }
      ]
    },
    {
      "cell_type": "code",
      "source": [
        "# create a loss fucntion\n",
        "loss_fn = nn.L1Loss()\n",
        "\n",
        "#create a optimizer\n",
        "optimizer = torch.optim.SGD(params=model.parameters(),\n",
        "                            lr=0.01)"
      ],
      "metadata": {
        "id": "WFaCbNjikzym"
      },
      "execution_count": 10,
      "outputs": []
    },
    {
      "cell_type": "code",
      "source": [
        "# epochs\n",
        "epochs = 300\n",
        "\n",
        "#experimenting\n",
        "epoch_count = []\n",
        "loss_data=[]\n",
        "test_loss_data = []\n",
        "\n",
        "#creating a training and testing loop\n",
        "for epoch in range(epochs):\n",
        "  #set the model in train model\n",
        "  model.train()\n",
        "\n",
        "  #forward step\n",
        "  y_pred = model(X_train)\n",
        "\n",
        "  #calculating loss function\n",
        "  loss = loss_fn(y_pred,y_train)\n",
        "\n",
        "  # setting the optimizer to zero grad as it by default accumulate the values\n",
        "  optimizer.zero_grad()\n",
        "\n",
        "  #backward propagation\n",
        "  loss.backward()\n",
        "\n",
        "  #optimizer\n",
        "  optimizer.step()\n",
        "\n",
        "  # testing mode\n",
        "  model.eval()\n",
        "\n",
        "  #forward step\n",
        "  with torch.inference_mode():\n",
        "    test_pred = model(X_test)\n",
        "\n",
        "  #loss calculation\n",
        "  test_loss =loss_fn(test_pred,y_test)\n",
        "\n",
        "  if epoch%20==0:\n",
        "    epoch_count.append(epoch)\n",
        "    loss_data.append(loss.detach().numpy())\n",
        "    test_loss_data.append(test_loss.detach().numpy())\n",
        "    print(f\"Epoch: {epoch} | Loss: {loss} | Test Loss: {test_loss}\")"
      ],
      "metadata": {
        "colab": {
          "base_uri": "https://localhost:8080/"
        },
        "id": "BoTYKd26k2g-",
        "outputId": "24ff644e-d2d9-4599-d550-d608e25574f5"
      },
      "execution_count": 11,
      "outputs": [
        {
          "output_type": "stream",
          "name": "stdout",
          "text": [
            "Epoch: 0 | Loss: 0.7422052025794983 | Test Loss: 0.6813738942146301\n",
            "Epoch: 20 | Loss: 0.41738519072532654 | Test Loss: 0.1985538750886917\n",
            "Epoch: 40 | Loss: 0.16582420468330383 | Test Loss: 0.19161489605903625\n",
            "Epoch: 60 | Loss: 0.13492025434970856 | Test Loss: 0.2436906397342682\n",
            "Epoch: 80 | Loss: 0.11619293689727783 | Test Loss: 0.2253524363040924\n",
            "Epoch: 100 | Loss: 0.09796369075775146 | Test Loss: 0.19259914755821228\n",
            "Epoch: 120 | Loss: 0.07977813482284546 | Test Loss: 0.156447634100914\n",
            "Epoch: 140 | Loss: 0.061592668294906616 | Test Loss: 0.12029661238193512\n",
            "Epoch: 160 | Loss: 0.04340718686580658 | Test Loss: 0.08482521772384644\n",
            "Epoch: 180 | Loss: 0.025222454220056534 | Test Loss: 0.04867418482899666\n",
            "Epoch: 200 | Loss: 0.007037716452032328 | Test Loss: 0.012523150071501732\n",
            "Epoch: 220 | Loss: 0.010932961478829384 | Test Loss: 0.006088173482567072\n",
            "Epoch: 240 | Loss: 0.010932961478829384 | Test Loss: 0.006088173482567072\n",
            "Epoch: 260 | Loss: 0.010932961478829384 | Test Loss: 0.006088173482567072\n",
            "Epoch: 280 | Loss: 0.010932961478829384 | Test Loss: 0.006088173482567072\n"
          ]
        }
      ]
    },
    {
      "cell_type": "code",
      "source": [
        "plot_the_predictions(predictions=test_pred)"
      ],
      "metadata": {
        "colab": {
          "base_uri": "https://localhost:8080/",
          "height": 555
        },
        "id": "6MY6SoN8qeNE",
        "outputId": "4e37de09-0dcf-4ed5-9cb3-7e00ca8049e5"
      },
      "execution_count": 12,
      "outputs": [
        {
          "output_type": "display_data",
          "data": {
            "text/plain": [
              "<Figure size 1000x700 with 1 Axes>"
            ],
            "image/png": "[encoded data removed]"
          },
          "metadata": {}
        }
      ]
    },
    {
      "cell_type": "code",
      "source": [
        "model.state_dict()"
      ],
      "metadata": {
        "colab": {
          "base_uri": "https://localhost:8080/"
        },
        "id": "1-WpPQQ-qz3a",
        "outputId": "6752c522-ced9-42ee-b599-4a8f63f54492"
      },
      "execution_count": 13,
      "outputs": [
        {
          "output_type": "execute_result",
          "data": {
            "text/plain": [
              "OrderedDict([('weight', tensor([0.3071])), ('bias', tensor([0.9053]))])"
            ]
          },
          "metadata": {},
          "execution_count": 13
        }
      ]
    },
    {
      "cell_type": "code",
      "source": [
        "# plotting the loss curve\n",
        "plt.plot(epoch_count,loss_data,label='Training Loss')\n",
        "plt.plot(epoch_count,test_loss_data,label='Testing Loss')\n",
        "plt.ylabel('Loss')\n",
        "plt.xlabel('Epoch Count')\n",
        "plt.legend()\n",
        "plt.title('Training and testing Loss curve')"
      ],
      "metadata": {
        "colab": {
          "base_uri": "https://localhost:8080/",
          "height": 489
        },
        "id": "-kmti4X-q9SP",
        "outputId": "38c90527-77d2-4af0-83c9-ff15cbcc7e8c"
      },
      "execution_count": 14,
      "outputs": [
        {
          "output_type": "execute_result",
          "data": {
            "text/plain": [
              "Text(0.5, 1.0, 'Training and testing Loss curve')"
            ]
          },
          "metadata": {},
          "execution_count": 14
        },
        {
          "output_type": "display_data",
          "data": {
            "text/plain": [
              "<Figure size 640x480 with 1 Axes>"
            ],
            "image/png": "[encoded data removed]"
          },
          "metadata": {}
        }
      ]
    },
    {
      "cell_type": "markdown",
      "source": [
        "## save the pytorch model"
      ],
      "metadata": {
        "id": "Ryb-OhBDr2b8"
      }
    },
    {
      "cell_type": "code",
      "source": [
        "#saving the model Always save the state_dict rather than the whole model\n",
        "from pathlib import Path\n",
        "\n",
        "# 1. create models directory\n",
        "MODEL_PATH = Path('models')\n",
        "MODEL_PATH.mkdir(parents=True,exist_ok=True)\n",
        "\n",
        "# 2 create model save path\n",
        "MODEL_NAME = '01_PyTorch_Workflow_Assigment.pth'\n",
        "MODEL_PATH_SAVE= MODEL_PATH/MODEL_NAME\n",
        "\n",
        "# 3. Save the model state dict\n",
        "print(f'Saving model to: {MODEL_PATH_SAVE}')\n",
        "torch.save(obj=model.state_dict(),\n",
        "           f=MODEL_PATH_SAVE)"
      ],
      "metadata": {
        "colab": {
          "base_uri": "https://localhost:8080/"
        },
        "id": "MLaGZoc_CQ_6",
        "outputId": "dc462660-f523-42db-ed00-73eeffb619f9"
      },
      "execution_count": 20,
      "outputs": [
        {
          "output_type": "stream",
          "name": "stdout",
          "text": [
            "Saving model to: models/01_PyTorch_Workflow_Assigment.pth\n"
          ]
        }
      ]
    },
    {
      "cell_type": "code",
      "source": [
        "!ls -l models"
      ],
      "metadata": {
        "colab": {
          "base_uri": "https://localhost:8080/"
        },
        "id": "sjF7A5yLDYmm",
        "outputId": "cfa5b006-a50e-43ce-e792-6a8b139d2a8e"
      },
      "execution_count": 21,
      "outputs": [
        {
          "output_type": "stream",
          "name": "stdout",
          "text": [
            "total 4\n",
            "-rw-r--r-- 1 root root 1692 Mar 23 11:29 01_PyTorch_Workflow_Assigment.pth\n"
          ]
        }
      ]
    },
    {
      "cell_type": "markdown",
      "source": [
        "# load the pytorch model"
      ],
      "metadata": {
        "id": "bSuWQQ3DDi17"
      }
    },
    {
      "cell_type": "code",
      "source": [
        "# instantiate the model instance\n",
        "model_for_test = RegressionModelAssignment()\n",
        "\n",
        "model_for_test.load_state_dict(torch.load(MODEL_PATH_SAVE))\n",
        "\n",
        "model_for_test.eval()\n",
        "\n",
        "with torch.inference_mode():\n",
        "  y_test_pred2 = model_for_test(X_test)\n",
        "\n",
        "model_for_test.state_dict()"
      ],
      "metadata": {
        "colab": {
          "base_uri": "https://localhost:8080/"
        },
        "id": "Ks85Oie2Dotr",
        "outputId": "160f58d7-5123-4216-d3f7-2ef9cef844a1"
      },
      "execution_count": 22,
      "outputs": [
        {
          "output_type": "execute_result",
          "data": {
            "text/plain": [
              "OrderedDict([('weight', tensor([0.3071])), ('bias', tensor([0.9053]))])"
            ]
          },
          "metadata": {},
          "execution_count": 22
        }
      ]
    },
    {
      "cell_type": "code",
      "source": [
        "with torch.inference_mode():\n",
        "    test_pred = model(X_test)\n",
        "model.state_dict()"
      ],
      "metadata": {
        "colab": {
          "base_uri": "https://localhost:8080/"
        },
        "id": "9Va18-2XFFY_",
        "outputId": "3ae930d9-7e69-4258-dc02-0157ec325b52"
      },
      "execution_count": 23,
      "outputs": [
        {
          "output_type": "execute_result",
          "data": {
            "text/plain": [
              "OrderedDict([('weight', tensor([0.3071])), ('bias', tensor([0.9053]))])"
            ]
          },
          "metadata": {},
          "execution_count": 23
        }
      ]
    },
    {
      "cell_type": "code",
      "source": [
        "test_pred == y_test_pred2"
      ],
      "metadata": {
        "colab": {
          "base_uri": "https://localhost:8080/"
        },
        "id": "I-UcD4_6FRNr",
        "outputId": "900b33c8-16c5-44e7-d257-196b09f3f47c"
      },
      "execution_count": 24,
      "outputs": [
        {
          "output_type": "execute_result",
          "data": {
            "text/plain": [
              "tensor([[True],\n",
              "        [True],\n",
              "        [True],\n",
              "        [True],\n",
              "        [True],\n",
              "        [True],\n",
              "        [True],\n",
              "        [True],\n",
              "        [True],\n",
              "        [True],\n",
              "        [True],\n",
              "        [True],\n",
              "        [True],\n",
              "        [True],\n",
              "        [True],\n",
              "        [True],\n",
              "        [True],\n",
              "        [True],\n",
              "        [True],\n",
              "        [True]])"
            ]
          },
          "metadata": {},
          "execution_count": 24
        }
      ]
    },
    {
      "cell_type": "code",
      "source": [],
      "metadata": {
        "id": "qKZE_TH_FZU6"
      },
      "execution_count": null,
      "outputs": []
    }
  ]
}